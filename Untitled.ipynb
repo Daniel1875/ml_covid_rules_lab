{
 "cells": [
  {
   "cell_type": "code",
   "execution_count": 1,
   "metadata": {},
   "outputs": [],
   "source": [
    "class DecisionNode:\n",
    "    def __init__(self, col=-1, value=None, results=None, tb=None, fb=None):\n",
    "        self.col = col # attribute on which to split\n",
    "        self.value = value # value on which to split\n",
    "        self.results = results #If the node has no children - we store here class labels with their counts\n",
    "        self.tb = tb  # True branch\n",
    "        self.fb = fb  # False branch"
   ]
  },
  {
   "cell_type": "code",
   "execution_count": 2,
   "metadata": {},
   "outputs": [],
   "source": [
    "def split(rows, column, value):\n",
    "    # define split function according to the value type\n",
    "    split_function = None\n",
    "    if isinstance(value, int) or isinstance(value, float):\n",
    "        split_function = lambda row: row[column] >= value\n",
    "    else:\n",
    "        split_function = lambda row: row[column] == value\n",
    "\n",
    "    # Divide the rows into two sets and return them\n",
    "    set1 = [row for row in rows if split_function(row)]\n",
    "    set2 = [row for row in rows if not split_function(row)]\n",
    "    return (set1, set2)"
   ]
  },
  {
   "cell_type": "code",
   "execution_count": 3,
   "metadata": {},
   "outputs": [],
   "source": [
    "def count_labels(rows):\n",
    "    label_count = {}\n",
    "    for row in rows:\n",
    "        # The class label is in the last column\n",
    "        label = row[- 1]\n",
    "        if label not in label_count:\n",
    "            label_count[label] = 0\n",
    "        label_count[label] += 1\n",
    "    return label_count"
   ]
  },
  {
   "cell_type": "code",
   "execution_count": 4,
   "metadata": {},
   "outputs": [],
   "source": [
    "data_file = \"C:/Users/cuiji/Desktop/ML2020LAB/ml_covid_rules_lab-master/covid_categorical_good.csv\""
   ]
  },
  {
   "cell_type": "code",
   "execution_count": 5,
   "metadata": {},
   "outputs": [
    {
     "data": {
      "text/plain": [
       "Index(['sex', 'age', 'diabetes', 'copd', 'asthma', 'imm_supr', 'hypertension',\n",
       "       'cardiovascular', 'obesity', 'renal_chronic', 'tobacco', 'outcome'],\n",
       "      dtype='object')"
      ]
     },
     "execution_count": 5,
     "metadata": {},
     "output_type": "execute_result"
    }
   ],
   "source": [
    "import pandas as pd\n",
    "data = pd.read_csv(data_file)\n",
    "data = data.dropna(how=\"any\")\n",
    "data.columns"
   ]
  },
  {
   "cell_type": "code",
   "execution_count": 6,
   "metadata": {},
   "outputs": [
    {
     "data": {
      "text/plain": [
       "219179"
      ]
     },
     "execution_count": 6,
     "metadata": {},
     "output_type": "execute_result"
    }
   ],
   "source": [
    "data_rows = data.to_numpy().tolist()\n",
    "len(data_rows)"
   ]
  },
  {
   "cell_type": "code",
   "execution_count": 7,
   "metadata": {},
   "outputs": [
    {
     "name": "stdout",
     "output_type": "stream",
     "text": [
      "['sex', 'age', 'diabetes', 'copd', 'asthma', 'imm_supr', 'hypertension', 'cardiovascular', 'obesity', 'renal_chronic', 'tobacco', 'outcome']\n"
     ]
    }
   ],
   "source": [
    "columns_list = data.columns.to_numpy().tolist()\n",
    "print(columns_list)"
   ]
  },
  {
   "cell_type": "code",
   "execution_count": 9,
   "metadata": {},
   "outputs": [
    {
     "name": "stdout",
     "output_type": "stream",
     "text": [
      "['alive', 'dead']\n"
     ]
    }
   ],
   "source": [
    "outcomes = []\n",
    "for r in data_rows:\n",
    "    if r[-1] not in outcomes:\n",
    "        outcomes.append(r[-1])\n",
    "print(outcomes)"
   ]
  },
  {
   "cell_type": "code",
   "execution_count": 58,
   "metadata": {},
   "outputs": [
    {
     "name": "stdout",
     "output_type": "stream",
     "text": [
      "(1, 106)\n",
      "1.0\n",
      "2.7374885367667522e-05\n",
      "(6, 'no')\n",
      "0.9118518814640526\n",
      "0.7989259625957577\n",
      "(4, 'yes')\n",
      "0.8127159640635798\n",
      "0.03283412752439301\n",
      "(2, 'no')\n",
      "0.788655724080615\n",
      "0.5646012716139174\n",
      "(1, 103)\n",
      "1.0\n",
      "5.3885116930703737e-05\n",
      "(1, 100)\n",
      "0.75\n",
      "0.0002155520827719998\n",
      "(1, 99)\n",
      "1.0\n",
      "0.0001077992777448391\n",
      "(1, 97)\n",
      "0.7142857142857143\n",
      "0.00037733814888685246\n",
      "(0, 'female')\n",
      "0.7080097368726093\n",
      "0.4652178602243313\n",
      "(8, 'yes')\n",
      "0.6834862385321101\n",
      "0.2857719068266613\n",
      "(9, 'no')\n",
      "0.6595744680851063\n",
      "0.8759000423549343\n",
      "(1, 92)\n",
      "1.0\n",
      "0.0011376564277588168\n",
      "(1, 90)\n",
      "1.0\n",
      "0.002277904328018223\n",
      "(1, 88)\n",
      "0.6666666666666667\n",
      "0.00684931506849315\n",
      "(1, 84)\n",
      "0.6363636363636364\n",
      "0.01264367816091954\n",
      "(1, 78)\n",
      "0.6428571428571428\n",
      "0.048894062863795114\n",
      "(1, 77)\n",
      "0.5882352941176471\n",
      "0.0208078335373317\n",
      "(1, 75)\n",
      "0.5714285714285714\n",
      "0.035\n",
      "(1, 73)\n",
      "0.5454545454545454\n",
      "0.05699481865284974\n",
      "(1, 72)\n",
      "0.5555555555555556\n",
      "0.03708791208791209\n",
      "(1, 65)\n",
      "0.5502645502645502\n",
      "0.26961483594864477\n",
      "(1, 64)\n",
      "0.65\n",
      "0.0390625\n",
      "(5, 'yes')\n",
      "0.5714285714285714\n",
      "0.08536585365853659\n",
      "(1, 61)\n",
      "0.5494505494505495\n",
      "0.20222222222222222\n",
      "(1, 60)\n",
      "0.6666666666666667\n",
      "0.0584958217270195\n",
      "(10, 'yes')\n",
      "0.6071428571428571\n",
      "0.08284023668639054\n",
      "(1, 59)\n",
      "0.56\n",
      "0.08064516129032258\n",
      "(1, 58)\n",
      "0.5517241379310345\n",
      "0.10175438596491228\n",
      "(1, 56)\n",
      "0.5454545454545454\n",
      "0.21484375\n",
      "(1, 55)\n",
      "0.65\n",
      "0.09950248756218906\n",
      "(7, 'yes')\n",
      "0.75\n",
      "0.022099447513812154\n",
      "(1, 53)\n",
      "0.5777777777777777\n",
      "0.2542372881355932\n",
      "(1, 51)\n",
      "0.5833333333333334\n",
      "0.18181818181818182\n",
      "(0, 'male')\n",
      "0.5648148148148148\n",
      "1.0\n"
     ]
    }
   ],
   "source": [
    "R = []\n",
    "a = 0\n",
    "b = 0\n",
    "gsize = len(data_rows)\n",
    "def accuracy(s, col, value, c):\n",
    "    total = len(s)\n",
    "    count = 0\n",
    "    true = split(s, col, value)[0]\n",
    "    for r in true:\n",
    "        if r[-1] == c:\n",
    "            count += 1\n",
    "    return count/total\n",
    "\n",
    "def learnOneRule(E, c):\n",
    "    global a\n",
    "    global b\n",
    "    global R\n",
    "    global gsize\n",
    "    M = None\n",
    "\n",
    "    column_count= len(E[0]) - 1\n",
    "\n",
    "\n",
    "    best_accuracy = 0\n",
    "    best_coverage = 0\n",
    "    best_rule = None\n",
    "    r_cover = None\n",
    "\n",
    "    for col in range(0, column_count):\n",
    "        column_values = set()\n",
    "        for row in E:\n",
    "            column_values.add(row[col])\n",
    "\n",
    "        for value in column_values:\n",
    "            (set1, set2) = split(E, col, value)\n",
    "\n",
    "            acc = accuracy(set1, col, value, c)\n",
    "            if type(value) is int or type(value) is float:\n",
    "                acc = max(acc, 1-acc)\n",
    "            p = float(len(set1)) / len(E)\n",
    "\n",
    "            if acc > best_accuracy or (acc == best_accuracy and p > best_coverage):\n",
    "                best_accuracy = acc\n",
    "                best_coverage = p\n",
    "                best_rule = (col, value)\n",
    "                r_cover = set1\n",
    "                M = set2\n",
    "    print(best_rule)\n",
    "    print(best_accuracy)\n",
    "    print(best_coverage)\n",
    "    R.append(best_rule)\n",
    "    a += best_accuracy*len(set1)/gsize\n",
    "    b += best_coverage\n",
    "    return M\n",
    "\n",
    "def PRISM(rows, c, accuracy_threshold=1, coverage_threshold=0):\n",
    "    R = []\n",
    "    a = 0\n",
    "    b = 0\n",
    "    gsize = len(rows)\n",
    "    while len(rows) != 0 and (b == 0 or a < accuracy_threshold) and b < coverage_threshold:\n",
    "        rows = learnOneRule(rows, c)\n",
    "\n",
    "PRISM(data_rows, 'alive', 0.99, 0.95)"
   ]
  },
  {
   "cell_type": "code",
   "execution_count": null,
   "metadata": {},
   "outputs": [],
   "source": [
    "def prediction(leaf_labels):\n",
    "    total = 0\n",
    "    result = {}\n",
    "    for label, count in leaf_labels.items():\n",
    "        total += count\n",
    "        result[label] = count\n",
    "\n",
    "    for label, val in result.items():\n",
    "        result[label] = str(int(result[label]/total * 100))+\"%\"\n",
    "\n",
    "    return result\n",
    "\n",
    "def print_tree(tree, current_branch, attributes=None,  indent='', leaf_funct=prediction):\n",
    "    # Is this a leaf node?\n",
    "    if tree.results != None:\n",
    "        print(indent + current_branch + str(leaf_funct(tree.results)))\n",
    "    else:\n",
    "        # Print the split question\n",
    "        split_col = str(tree.col)\n",
    "        if attributes is not None:\n",
    "            split_col = attributes[tree.col]\n",
    "        split_val = str(tree.value)\n",
    "        if type(tree.value) == int or type(tree.value) == float:\n",
    "            split_val = \">=\" + str(tree.value)\n",
    "        print(indent + current_branch + split_col + ': ' + split_val + '? ')\n",
    "\n",
    "        # Print the branches\n",
    "        indent = indent + '  '\n",
    "        print_tree(tree.tb, 'T->', attributes, indent)\n",
    "        print_tree(tree.fb, 'F->', attributes, indent)\n",
    "\n",
    "print_tree(tree, \" \", columns_list)"
   ]
  }
 ],
 "metadata": {
  "kernelspec": {
   "display_name": "Python 3",
   "language": "python",
   "name": "python3"
  },
  "language_info": {
   "codemirror_mode": {
    "name": "ipython",
    "version": 3
   },
   "file_extension": ".py",
   "mimetype": "text/x-python",
   "name": "python",
   "nbconvert_exporter": "python",
   "pygments_lexer": "ipython3",
   "version": "3.8.3"
  }
 },
 "nbformat": 4,
 "nbformat_minor": 4
}
