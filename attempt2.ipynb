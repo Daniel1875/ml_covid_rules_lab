{
 "cells": [
  {
   "cell_type": "code",
   "execution_count": 1,
   "metadata": {},
   "outputs": [],
   "source": [
    "import pandas as pd\n",
    "import numpy as np\n",
    "import warnings\n",
    "\n",
    "# This is due to strange behavior from pandas. I looked up this solution. I have no idea why it happened.\n",
    "warnings.simplefilter(action='ignore', category=FutureWarning)"
   ]
  },
  {
   "cell_type": "code",
   "execution_count": 2,
   "metadata": {},
   "outputs": [],
   "source": [
    "# The Rule class.\n",
    "class Rule:\n",
    "    \n",
    "    def __init__(self, class_label):\n",
    "        self.conditions = []\n",
    "        self.class_label = class_label\n",
    "    \n",
    "    def __repr__(self):\n",
    "        return \"If {} then {}. \".format(self.conditions, self.class_label)\n",
    "\n",
    "# The Condition class.\n",
    "class Condition:\n",
    "    \n",
    "    def __init__(self, attribute, value, numeric_greater=None):\n",
    "        self.attribute = attribute\n",
    "        self.value = value\n",
    "        self.numeric_greater = numeric_greater\n",
    "    \n",
    "    def __repr__(self):\n",
    "        if self.numeric_greater is None:\n",
    "            return self.attribute + \"=\" + self.value\n",
    "        else:\n",
    "            return self.attribute + \">=\" + str(self.value) + \":\" + str(self.numeric_greater)\n",
    "    \n",
    "    # Takes any subset of the data and a class label, returns accuracy, coverage and the covered portion of the subset.\n",
    "    # Accuracy is returned as 0 if coverage is 0, to avoid ArithmeticError\n",
    "    def score(self, class_label, frame):\n",
    "        if self.numeric_greater is None:\n",
    "            covered = frame[frame[self.attribute] == self.value]\n",
    "            true = len(covered[covered['outcome'] == class_label])\n",
    "            if len(covered) == 0:\n",
    "                return (0, 0, frame)\n",
    "            return (true/len(covered), len(covered), covered)\n",
    "        elif self.numeric_greater == True:\n",
    "            covered = frame[frame[self.attribute] >= self.value]\n",
    "            true = len(covered[covered['outcome'] == class_label])\n",
    "            if len(covered) == 0:\n",
    "                return (0, 0, frame)\n",
    "            return (true/len(covered), len(covered), covered)\n",
    "        else:\n",
    "            covered = frame[frame[self.attribute] < self.value]\n",
    "            true = len(covered[covered['outcome'] == class_label])\n",
    "            if len(covered) == 0:\n",
    "                return (0, 0, frame)\n",
    "            return (true/len(covered), len(covered), covered)"
   ]
  },
  {
   "cell_type": "code",
   "execution_count": 3,
   "metadata": {},
   "outputs": [],
   "source": [
    "# It tries to either learns a new Rule with one Condition, or adds one Condition to an existing Rule.\n",
    "# Returns the Rule, the new attribute list after removing the attribute in the Condition, the Condition, \n",
    "# the accuracy, the coverage and the covered subset in that order.\n",
    "# If it fails to produce new Rule, then returns an empty Rule, the original attribute list, a None Condition,\n",
    "# a 0 accuracy, a 0 coverage and the original subset.\n",
    "# If it fails to update existing Rule, then returns the original Rule, the original attribute list,\n",
    "# a None Condition, the original accuracy, the original coverage and the original subset.\n",
    "def learn_one_rule(attributes, data, class_label, cov_threshold, prev_acc=0, prev_cov=0, prev_rule=None):\n",
    "    \n",
    "    rule = prev_rule if prev_rule is not None else Rule(class_label)\n",
    "    \n",
    "    best_acc = prev_acc\n",
    "    best_cov = prev_cov\n",
    "    best_condition = None\n",
    "    best_covered = data\n",
    "    \n",
    "    # Iterates over every attribute other than \"outcome\"\n",
    "    for attribute in attributes:\n",
    "        if attribute == \"outcome\":\n",
    "            continue\n",
    "        \n",
    "        # All values of attributes are tested to find which value yields the best condition for the rule\n",
    "        unique_values = data[attribute].unique().tolist()\n",
    "        if len(unique_values) == 0:\n",
    "            continue\n",
    "        \n",
    "        if type(unique_values[0]) == int or type(unique_values[0]) == float:\n",
    "            for val in unique_values:\n",
    "                new_condition = Condition(attribute, val, True)\n",
    "                acc, cov, covered = new_condition.score(class_label, data)\n",
    "                \n",
    "                if cov > cov_threshold and (acc > best_acc or (acc == best_acc and cov > best_cov)):\n",
    "                    best_acc = acc\n",
    "                    best_cov = cov\n",
    "                    best_condition = new_condition\n",
    "                    best_covered = covered\n",
    "            for val in unique_values:\n",
    "                new_condition = Condition(attribute, val, False)\n",
    "                acc, cov, covered = new_condition.score(class_label, data)\n",
    "                \n",
    "                if cov > cov_threshold and (acc > best_acc or (acc == best_acc and cov > best_cov)):\n",
    "                    best_acc = acc\n",
    "                    best_cov = cov\n",
    "                    best_condition = new_condition\n",
    "                    best_covered = covered\n",
    "        else:\n",
    "            for val in unique_values:\n",
    "                new_condition = Condition(attribute, val, None)\n",
    "                acc, cov, covered = new_condition.score(class_label, data)\n",
    "                \n",
    "                if cov > cov_threshold and (acc > best_acc or (acc == best_acc and cov > best_cov)):\n",
    "                    best_acc = acc\n",
    "                    best_cov = cov\n",
    "                    best_condition = new_condition\n",
    "                    best_covered = covered\n",
    "    \n",
    "    new_attributes = attributes.copy()\n",
    "    if best_condition is not None:\n",
    "        rule.conditions.append(best_condition)\n",
    "        new_attributes.remove(best_condition.attribute)\n",
    "    \n",
    "    return (rule, new_attributes, best_condition, best_acc, best_cov, best_covered)"
   ]
  },
  {
   "cell_type": "code",
   "execution_count": 4,
   "metadata": {},
   "outputs": [],
   "source": [
    "def PRISM(attributes, data, class_label, acc_threshold, cov_threshold, max_iterations=30):\n",
    "    rules = []\n",
    "    \n",
    "    # Copies the data. The variable 'frame' will be modified once a Rule is established.\n",
    "    frame = data.copy()\n",
    "    \n",
    "    # Keeps going until the remaining elements can no longer create a Rule that has large enough coverage.\n",
    "    while len(frame) > cov_threshold:\n",
    "        \n",
    "        # Copies the subset of data. This will be modified every time the Rule is updated; \n",
    "        # it is the subset that satisfies old Rule and needs to be used in trying to update the Rule.\n",
    "        subframe = frame.copy()\n",
    "        \n",
    "        # Learns a Rule, then keeps updating it until it can be updated no further.\n",
    "        rule, remaining_attributes, new_condition, acc, cov, subframe = learn_one_rule(attributes, frame, class_label, cov_threshold)\n",
    "        if new_condition is None:\n",
    "            return ([])\n",
    "        while new_condition is not None and acc < 1 and cov > cov_threshold:\n",
    "            rule, remaining_attributes, new_condition, acc, cov, subframe = learn_one_rule(remaining_attributes, subframe, class_label, cov_threshold, acc, cov, rule)\n",
    "        \n",
    "        # If the Rule can be refined to the extent that it passes acc_threshold, it gets remembered.\n",
    "        if acc > acc_threshold:\n",
    "            rules.append(\"{}Accuracy: {}, Coverage: {}.\".format(rule, acc, cov))\n",
    "\n",
    "            # From frame, remove the elements covered by the Rule.\n",
    "            # https://stackoverflow.com/questions/37313691/how-to-remove-a-pandas-dataframe-from-another-dataframe\n",
    "            frame = pd.concat([frame, subframe, subframe]).drop_duplicates(keep=False)\n",
    "\n",
    "            # Breaks if max_iterations is reached.\n",
    "            if len(rules) >= max_iterations:\n",
    "                return rules\n",
    "        # If the Rule doesn't pass, then we know the best Rule can't pass; hence no Rule after this.\n",
    "        else:\n",
    "            break\n",
    "    return rules"
   ]
  },
  {
   "cell_type": "code",
   "execution_count": 5,
   "metadata": {},
   "outputs": [
    {
     "data": {
      "text/plain": [
       "Index(['sex', 'age', 'diabetes', 'copd', 'asthma', 'imm_supr', 'hypertension',\n",
       "       'cardiovascular', 'obesity', 'renal_chronic', 'tobacco', 'outcome'],\n",
       "      dtype='object')"
      ]
     },
     "execution_count": 5,
     "metadata": {},
     "output_type": "execute_result"
    }
   ],
   "source": [
    "data = pd.read_csv(\"covid_categorical_good.csv\")\n",
    "data = data.dropna(how=\"any\")\n",
    "data.columns"
   ]
  },
  {
   "cell_type": "code",
   "execution_count": 6,
   "metadata": {},
   "outputs": [
    {
     "data": {
      "text/plain": [
       "['sex',\n",
       " 'diabetes',\n",
       " 'copd',\n",
       " 'asthma',\n",
       " 'imm_supr',\n",
       " 'hypertension',\n",
       " 'cardiovascular',\n",
       " 'obesity',\n",
       " 'renal_chronic',\n",
       " 'tobacco',\n",
       " 'outcome']"
      ]
     },
     "execution_count": 6,
     "metadata": {},
     "output_type": "execute_result"
    }
   ],
   "source": [
    "data_categorical = data.drop(columns=['age'])\n",
    "column_list = data_categorical.columns.to_numpy().tolist()\n",
    "column_list"
   ]
  },
  {
   "cell_type": "code",
   "execution_count": 7,
   "metadata": {},
   "outputs": [
    {
     "data": {
      "text/plain": [
       "['sex',\n",
       " 'age',\n",
       " 'diabetes',\n",
       " 'copd',\n",
       " 'asthma',\n",
       " 'imm_supr',\n",
       " 'hypertension',\n",
       " 'cardiovascular',\n",
       " 'obesity',\n",
       " 'renal_chronic',\n",
       " 'tobacco',\n",
       " 'outcome']"
      ]
     },
     "execution_count": 7,
     "metadata": {},
     "output_type": "execute_result"
    }
   ],
   "source": [
    "column_list = data.columns.to_numpy().tolist()\n",
    "column_list"
   ]
  },
  {
   "cell_type": "code",
   "execution_count": 8,
   "metadata": {},
   "outputs": [
    {
     "name": "stdout",
     "output_type": "stream",
     "text": [
      "If [age>=26:False, tobacco=yes, asthma=yes] then alive. Accuracy: 1.0, Coverage: 47.\n",
      "If [age>=9:False, imm_supr=no, diabetes=no] then alive. Accuracy: 0.925, Coverage: 40.\n",
      "If [age>=15:False, imm_supr=no, hypertension=no] then alive. Accuracy: 0.8780487804878049, Coverage: 41.\n",
      "If [age>=20:False, hypertension=yes, imm_supr=no] then alive. Accuracy: 0.9117647058823529, Coverage: 34.\n",
      "If [age>=21:False, obesity=yes] then alive. Accuracy: 0.8157894736842105, Coverage: 38.\n",
      "If [age>=33:False, copd=yes, hypertension=no, diabetes=no] then alive. Accuracy: 0.9117647058823529, Coverage: 34.\n",
      "If [age>=99:True, cardiovascular=no] then alive. Accuracy: 0.7352941176470589, Coverage: 34.\n",
      "If [age>=33:False, copd=yes] then alive. Accuracy: 0.8709677419354839, Coverage: 31.\n",
      "If [age>=44:False, copd=yes, asthma=yes] then alive. Accuracy: 0.96875, Coverage: 32.\n",
      "If [age>=21:False, sex=male] then alive. Accuracy: 0.7741935483870968, Coverage: 31.\n",
      "If [age>=34:False, cardiovascular=yes, obesity=yes, imm_supr=no, asthma=no] then alive. Accuracy: 0.9444444444444444, Coverage: 36.\n",
      "If [asthma=yes, tobacco=yes, age>=50:False, hypertension=yes, renal_chronic=no] then alive. Accuracy: 1.0, Coverage: 34.\n",
      "If [age>=45:False, cardiovascular=yes, asthma=yes] then alive. Accuracy: 0.9375, Coverage: 32.\n",
      "If [age>=45:False, copd=yes, sex=female, imm_supr=no] then alive. Accuracy: 0.868421052631579, Coverage: 38.\n",
      "If [asthma=yes, imm_supr=yes, age>=53:False, obesity=no, tobacco=no] then alive. Accuracy: 0.9032258064516129, Coverage: 31.\n",
      "If [asthma=yes, tobacco=yes, age>=56:False, obesity=no, copd=no] then alive. Accuracy: 0.9393939393939394, Coverage: 33.\n",
      "If [age>=30:False, cardiovascular=yes] then alive. Accuracy: 0.7837837837837838, Coverage: 37.\n",
      "If [imm_supr=yes, asthma=yes, age>=60:False, hypertension=yes] then alive. Accuracy: 0.8387096774193549, Coverage: 31.\n",
      "If [age>=45:False, cardiovascular=yes, tobacco=yes, diabetes=no, renal_chronic=no, copd=no] then alive. Accuracy: 0.9090909090909091, Coverage: 33.\n",
      "If [imm_supr=yes, age>=32:False, hypertension=yes] then alive. Accuracy: 0.7741935483870968, Coverage: 31.\n"
     ]
    }
   ],
   "source": [
    "# 20 Rules for the \"alive\" class label. It ran for less than half a minute.\n",
    "rules = PRISM(column_list, data, \"alive\", 0.6, 30, 20)\n",
    "for line in rules:\n",
    "    print(line)"
   ]
  },
  {
   "cell_type": "code",
   "execution_count": 9,
   "metadata": {},
   "outputs": [],
   "source": [
    "# Attempt at retrieving 5 rules for the \"dead\" category. Looks like no Rule of accuracy greater than 0.6 exist.\n",
    "rules = PRISM(column_list, data, \"dead\", 0.6, 30, 5)\n",
    "for line in rules:\n",
    "    print(line)"
   ]
  },
  {
   "cell_type": "code",
   "execution_count": null,
   "metadata": {},
   "outputs": [],
   "source": []
  }
 ],
 "metadata": {
  "kernelspec": {
   "display_name": "Python 3",
   "language": "python",
   "name": "python3"
  },
  "language_info": {
   "codemirror_mode": {
    "name": "ipython",
    "version": 3
   },
   "file_extension": ".py",
   "mimetype": "text/x-python",
   "name": "python",
   "nbconvert_exporter": "python",
   "pygments_lexer": "ipython3",
   "version": "3.7.1"
  }
 },
 "nbformat": 4,
 "nbformat_minor": 4
}
